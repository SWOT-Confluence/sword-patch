{
 "cells": [
  {
   "cell_type": "markdown",
   "id": "21629f84-6b4b-4204-a186-f9dc22996e51",
   "metadata": {
    "tags": []
   },
   "source": [
    "# Diagnose Issues for Level 4 basin 2321, Garonne et al.\n",
    "\n",
    "October 10 and 11, Mike D"
   ]
  },
  {
   "cell_type": "code",
   "execution_count": null,
   "id": "00dec178-bd5a-4077-8eea-b7e6d2ac5517",
   "metadata": {},
   "outputs": [],
   "source": [
    "import json\n",
    "import copy\n",
    "from pathlib import Path\n",
    "import folium\n",
    "import numpy as np\n",
    "import pandas as pd\n",
    "import geopandas as gpd\n",
    "from netCDF4 import Dataset\n",
    "import random\n",
    "import webbrowser\n",
    "import matplotlib.pyplot as plt\n",
    "import os\n",
    "from check_topology import check_topology\n",
    "from plotIssueMap import plotIssueMap\n",
    "from apply_sword_patches import apply_sword_patches\n",
    "from datetime import datetime"
   ]
  },
  {
   "cell_type": "code",
   "execution_count": null,
   "id": "bff07169-fc21-4b1d-91d3-bb61f4edcb22",
   "metadata": {},
   "outputs": [],
   "source": [
    "os.getcwd()"
   ]
  },
  {
   "cell_type": "code",
   "execution_count": null,
   "id": "9a8b0a18-fa16-4c9e-aa64-68b69550bc35",
   "metadata": {},
   "outputs": [],
   "source": [
    "# working directory\n",
    "InputDir=Path('/Users/mtd/Data/SWOT/SWORD/SWORD_v15/Reaches_Nodes/netcdf')\n",
    "ThisDir=Path('./')"
   ]
  },
  {
   "cell_type": "code",
   "execution_count": null,
   "id": "d7bae631-a542-4482-b05e-73f1ce69f86f",
   "metadata": {},
   "outputs": [],
   "source": [
    "# choose the basin Id to look at (each basin file contains multiple L3 basins)\n",
    "Lxbasin='2321'"
   ]
  },
  {
   "cell_type": "markdown",
   "id": "32334795-bd91-444c-b150-c9fb1ec7ed71",
   "metadata": {
    "tags": []
   },
   "source": [
    "# Read and set up SWORD data\n",
    "\n",
    "For all data in the specified basin, pass the data into a dictionary to be used throughout."
   ]
  },
  {
   "cell_type": "code",
   "execution_count": null,
   "id": "41ea0cb4-fc4e-472d-af57-44596a86c757",
   "metadata": {},
   "outputs": [],
   "source": [
    "#pull out the SWORD data. create a dictionary keyed off reach data with centerline and reach properties\n",
    "\n",
    "swordfile=InputDir.joinpath('eu_sword_v15.nc')\n",
    "sword_dataset=Dataset(swordfile)\n",
    "\n",
    "sword_point_reachids=sword_dataset['centerlines/reach_id'][0,:][:]\n",
    "swordx=sword_dataset['centerlines/x'][:]\n",
    "swordy=sword_dataset['centerlines/y'][:]\n",
    "\n",
    "swordreachids=sword_dataset[\"reaches/reach_id\"][:].tolist()\n",
    "sword_names=sword_dataset['reaches/river_name'][:]\n",
    "sword_drainage_area=sword_dataset['reaches/facc'][:]\n",
    "sword_swot_orbits=sword_dataset['reaches/swot_orbits'][:]\n",
    "\n",
    "sword_rch_id_up=sword_dataset['reaches/rch_id_up'][:]\n",
    "sword_rch_id_dn=sword_dataset['reaches/rch_id_dn'][:]\n",
    "\n",
    "sword_n_rch_up=sword_dataset['reaches/n_rch_up'][:]\n",
    "sword_n_rch_down=sword_dataset['reaches/n_rch_down'][:]\n",
    "\n",
    "\n",
    "sword_dataset.close()"
   ]
  },
  {
   "cell_type": "code",
   "execution_count": null,
   "id": "bf91c6be-c086-4c7d-a44a-8ee3c226bb8a",
   "metadata": {},
   "outputs": [],
   "source": [
    "BasinLevel=len(Lxbasin)\n",
    "\n",
    "domain_reachids=[]\n",
    "for reachid in swordreachids:\n",
    "    reachidstr=str(reachid)\n",
    "    if reachidstr[0:BasinLevel] == Lxbasin:\n",
    "        domain_reachids.append(reachid)\n",
    "\n",
    "print('there are a total of ',len(domain_reachids),'reaches in SWORD for', Lxbasin)"
   ]
  },
  {
   "cell_type": "code",
   "execution_count": null,
   "id": "e6203cba-5a7d-4fc0-a9e1-ca23745a04b7",
   "metadata": {},
   "outputs": [],
   "source": [
    "# create a dictionary keyed off reach data with centerline and reach properties for domain: \n",
    "# this takes a second\n",
    "\n",
    "domain_reach_data={}\n",
    "\n",
    "for reach in domain_reachids:\n",
    "    \n",
    "    reachstr=str(reach)\n",
    "    \n",
    "    # deal with points\n",
    "    indxs=np.argwhere(sword_point_reachids.data==int(reach))   \n",
    "    indxs=indxs[:,0]\n",
    "    points=[]\n",
    "    for indx in indxs:           \n",
    "        points.append(tuple([swordy[indx],swordx[indx]]))    \n",
    "        \n",
    "    # deal with reaches\n",
    "    indx = swordreachids.index(int(reach))\n",
    "    \n",
    "    domain_reach_data[reachstr]={}\n",
    "    domain_reach_data[reachstr]['clpoints']=points\n",
    "    domain_reach_data[reachstr]['river_name']=sword_names[indx]\n",
    "    \n",
    "    domain_reach_data[reachstr]['drainage_area_km2']=sword_drainage_area[indx]\n",
    "    domain_reach_data[reachstr]['swot_orbits']=sword_swot_orbits[:,indx]\n",
    "    \n",
    "\n",
    "    domain_reach_data[reachstr]['rch_id_up']=sword_rch_id_up[:,indx]\n",
    "    domain_reach_data[reachstr]['rch_id_dn']=sword_rch_id_dn[:,indx]    \n",
    "    \n",
    "    domain_reach_data[reachstr]['n_rch_up']=sword_n_rch_up[indx]\n",
    "    domain_reach_data[reachstr]['n_rch_down']=sword_n_rch_down[indx]    \n"
   ]
  },
  {
   "cell_type": "markdown",
   "id": "a0011044-e03a-4ff4-86f2-53f941819ab9",
   "metadata": {
    "tags": []
   },
   "source": [
    "# Set up current patch data\n",
    "\n",
    "Load, and then setup metadata"
   ]
  },
  {
   "cell_type": "code",
   "execution_count": null,
   "id": "702a86b5-4564-4d7f-9542-fb0aa8c77352",
   "metadata": {},
   "outputs": [],
   "source": [
    "# load current patch file\n",
    "init_patch_json=ThisDir.joinpath('sword_patches_v215_v2.json')\n",
    "with open(init_patch_json) as json_file:\n",
    "    patch_data = json.load(json_file)\n",
    "\n",
    "patch_data"
   ]
  },
  {
   "cell_type": "code",
   "execution_count": null,
   "id": "2ff81b48-9b57-4fe5-8a0b-3703be5eac4c",
   "metadata": {},
   "outputs": [],
   "source": [
    "today = datetime.now()\n",
    "\n",
    "patch_data['metadata']['version_num']+=1\n",
    "patch_data['metadata']['most recent update:']=today.strftime(\"%Y-%m-%d\")\n",
    "patch_data['metadata']"
   ]
  },
  {
   "cell_type": "code",
   "execution_count": null,
   "id": "4f462f9b-dc32-4963-b6a0-c2976cb994dc",
   "metadata": {},
   "outputs": [],
   "source": [
    "# apply patch data though it does not change anything here\n",
    "domain_reach_data=apply_sword_patches(patch_data,domain_reach_data)"
   ]
  },
  {
   "cell_type": "markdown",
   "id": "8504cb6c-6bc7-4381-aec8-29ac0276c91a",
   "metadata": {},
   "source": [
    "# Run Automated Topology Check"
   ]
  },
  {
   "cell_type": "code",
   "execution_count": null,
   "id": "44eaca3b-35f6-41b1-b277-0da26c2115eb",
   "metadata": {},
   "outputs": [],
   "source": [
    "#\n",
    "Verbose=1\n",
    "nerrors,reaches_with_issues=check_topology(domain_reachids,domain_reach_data,Verbose)\n",
    "\n",
    "print('There are a total of ',nerrors[1],'type 1 errors')\n",
    "print('There are a total of ',nerrors[2],'type 2 errors')"
   ]
  },
  {
   "cell_type": "markdown",
   "id": "b30e4ca0-3049-4d1d-92fa-83f917c8fc96",
   "metadata": {},
   "source": [
    "# Untangling topology issues above"
   ]
  },
  {
   "cell_type": "markdown",
   "id": "3c028a0a-57d3-4668-a0e8-59a568da4c11",
   "metadata": {
    "jp-MarkdownHeadingCollapsed": true,
    "tags": []
   },
   "source": [
    "## Issue 1: \n",
    "\n",
    "* Issue flagged for 23212000964\n",
    "* 23212000971 might need fixed: just update reach_id_dn to 23212000964\n",
    "* 23212000964 might need fixed: update to be between #7 and #5, fix numbers\n",
    "* 23212000954 might need fixed: update to be between #6 and #4, fix numbers\n",
    "* 23212000944 might need fixed: update to be within #5 and #3, fix numbers\n",
    "* 23212000931 might need fixed: update to be within #4 and #2, fix numbers\n",
    "\n",
    "Some of thsoe may be self-consistent. Quicker to just make it right than to stick with what's there."
   ]
  },
  {
   "cell_type": "code",
   "execution_count": null,
   "id": "58dcadeb-4844-4f92-af7e-d60f6633dec0",
   "metadata": {},
   "outputs": [],
   "source": [
    "L4basin='2321'\n",
    "reachstr='23212000964'\n",
    "reachmap=plotIssueMap(L4basin,domain_reach_data,reachstr,domain_reachids)\n",
    "reachmap"
   ]
  },
  {
   "cell_type": "code",
   "execution_count": null,
   "id": "e2d3304f-4ecb-4941-bb9a-22ddddf3c12c",
   "metadata": {},
   "outputs": [],
   "source": [
    "# create patch\n",
    "reachid='23212000971'\n",
    "\n",
    "patch_data['reach_data'][reachid]={    \n",
    "}\n",
    "\n",
    "# the first entry in each reach or node entry is a metadata dictionary\n",
    "patch_data['reach_data'][reachid]['metadata']={\n",
    "    'date_patch_added':'2023-10-10',\n",
    "    'person_responsible':'Mike Durand',\n",
    "    'reason_for_patch':'bad topology',\n",
    "    'patch_comment':'n/a'\n",
    "}\n",
    "\n",
    "# data elements to patch\n",
    "patch_data['reach_data'][reachid]['n_rch_down']=1\n",
    "patch_data['reach_data'][reachid]['rch_id_dn']=[23212000964, 0, 0, 0]"
   ]
  },
  {
   "cell_type": "code",
   "execution_count": null,
   "id": "f6abe9cb-0823-43ff-95ce-dbf9f7f3e37c",
   "metadata": {},
   "outputs": [],
   "source": [
    "# create patch\n",
    "reachid='23212000964'\n",
    "\n",
    "patch_data['reach_data'][reachid]={    \n",
    "}\n",
    "\n",
    "# the first entry in each reach or node entry is a metadata dictionary\n",
    "patch_data['reach_data'][reachid]['metadata']={\n",
    "    'date_patch_added':'2023-10-10',\n",
    "    'person_responsible':'Mike Durand',\n",
    "    'reason_for_patch':'bad topology',\n",
    "    'patch_comment':'n/a'\n",
    "}\n",
    "\n",
    "# data elements to patch\n",
    "patch_data['reach_data'][reachid]['n_rch_up']=1\n",
    "patch_data['reach_data'][reachid]['rch_id_up']=[23212000971, 0, 0, 0]\n",
    "patch_data['reach_data'][reachid]['n_rch_down']=1\n",
    "patch_data['reach_data'][reachid]['rch_id_dn']=[23212000954, 0, 0, 0]"
   ]
  },
  {
   "cell_type": "code",
   "execution_count": null,
   "id": "ed128e19-1e40-419e-83d8-70e362eb3c6c",
   "metadata": {},
   "outputs": [],
   "source": [
    "# create patch\n",
    "reachid='23212000954'\n",
    "\n",
    "patch_data['reach_data'][reachid]={    \n",
    "}\n",
    "\n",
    "# the first entry in each reach or node entry is a metadata dictionary\n",
    "patch_data['reach_data'][reachid]['metadata']={\n",
    "    'date_patch_added':'2023-10-10',\n",
    "    'person_responsible':'Mike Durand',\n",
    "    'reason_for_patch':'bad topology',\n",
    "    'patch_comment':'n/a'\n",
    "}\n",
    "\n",
    "# data elements to patch\n",
    "patch_data['reach_data'][reachid]['n_rch_up']=1\n",
    "patch_data['reach_data'][reachid]['rch_id_up']=[23212000964, 0, 0, 0]\n",
    "patch_data['reach_data'][reachid]['n_rch_down']=1\n",
    "patch_data['reach_data'][reachid]['rch_id_dn']=[23212000944, 0, 0, 0]"
   ]
  },
  {
   "cell_type": "code",
   "execution_count": null,
   "id": "0c4521c5-e6e3-4f77-ab34-5d5b67e2bcab",
   "metadata": {},
   "outputs": [],
   "source": [
    "# create patch\n",
    "reachid='23212000944'\n",
    "\n",
    "patch_data['reach_data'][reachid]={    \n",
    "}\n",
    "\n",
    "# the first entry in each reach or node entry is a metadata dictionary\n",
    "patch_data['reach_data'][reachid]['metadata']={\n",
    "    'date_patch_added':'2023-10-10',\n",
    "    'person_responsible':'Mike Durand',\n",
    "    'reason_for_patch':'bad topology',\n",
    "    'patch_comment':'n/a'\n",
    "}\n",
    "\n",
    "# data elements to patch\n",
    "patch_data['reach_data'][reachid]['n_rch_up']=1\n",
    "patch_data['reach_data'][reachid]['rch_id_up']=[23212000954, 0, 0, 0]\n",
    "patch_data['reach_data'][reachid]['n_rch_down']=1\n",
    "patch_data['reach_data'][reachid]['rch_id_dn']=[23212000931, 0, 0, 0]"
   ]
  },
  {
   "cell_type": "code",
   "execution_count": null,
   "id": "a691e154-72d2-42f5-8a94-7ab3627b5fbb",
   "metadata": {},
   "outputs": [],
   "source": [
    "# create patch\n",
    "reachid='23212000931'\n",
    "\n",
    "patch_data['reach_data'][reachid]={    \n",
    "}\n",
    "\n",
    "# the first entry in each reach or node entry is a metadata dictionary\n",
    "patch_data['reach_data'][reachid]['metadata']={\n",
    "    'date_patch_added':'2023-10-10',\n",
    "    'person_responsible':'Mike Durand',\n",
    "    'reason_for_patch':'bad topology',\n",
    "    'patch_comment':'n/a'\n",
    "}\n",
    "\n",
    "# data elements to patch\n",
    "patch_data['reach_data'][reachid]['n_rch_up']=1\n",
    "patch_data['reach_data'][reachid]['rch_id_up']=[23212000944, 0, 0, 0]\n",
    "patch_data['reach_data'][reachid]['n_rch_down']=1\n",
    "patch_data['reach_data'][reachid]['rch_id_dn']=[23212000924, 0, 0, 0]"
   ]
  },
  {
   "cell_type": "code",
   "execution_count": null,
   "id": "c55fc0c4-d3ab-49e9-a4bf-d9cb82d39d77",
   "metadata": {},
   "outputs": [],
   "source": [
    "# apply patches \n",
    "domain_reach_data_fix=apply_sword_patches(patch_data,domain_reach_data)"
   ]
  },
  {
   "cell_type": "code",
   "execution_count": null,
   "id": "5b2270b0-ae76-4009-be84-47d3d0081993",
   "metadata": {},
   "outputs": [],
   "source": [
    "Verbose=1 #show warnings too!\n",
    "nerrors,reaches_with_issues=check_topology(domain_reachids,domain_reach_data_fix,Verbose)\n",
    "\n",
    "print('There are a total of ',nerrors[1],'type 1 errors')\n",
    "print('There are a total of ',nerrors[2],'type 2 errors')"
   ]
  },
  {
   "cell_type": "markdown",
   "id": "25a92258-0a0a-473a-a174-25229d05a4cc",
   "metadata": {},
   "source": [
    "Yay 23212000964 is no longer in the list"
   ]
  },
  {
   "cell_type": "markdown",
   "id": "37a0d936-d87c-4205-9d3c-2cc77746b7fd",
   "metadata": {
    "jp-MarkdownHeadingCollapsed": true,
    "tags": []
   },
   "source": [
    "## Issue 2\n",
    "\n",
    "Flagged 23212001164\n",
    "\n",
    "Very similar to previous - long string of reaches that all need fixed and set straight in line:\n",
    "* 23212001171\n",
    "* 23212001164\n",
    "* 23212001154\n",
    "* 23212000584\n",
    "* 23212000574"
   ]
  },
  {
   "cell_type": "code",
   "execution_count": null,
   "id": "395a18b9-167c-46a3-b546-faa64e394fe2",
   "metadata": {},
   "outputs": [],
   "source": [
    "L4basin='2321'\n",
    "reachstr='23212001164'\n",
    "reachmap=plotIssueMap(L4basin,domain_reach_data,reachstr,domain_reachids)\n",
    "reachmap"
   ]
  },
  {
   "cell_type": "code",
   "execution_count": null,
   "id": "2d5b4561-f133-45c8-8166-0afcf1476e36",
   "metadata": {},
   "outputs": [],
   "source": [
    "# create patch\n",
    "reachid='23212001171'\n",
    "\n",
    "patch_data['reach_data'][reachid]={    \n",
    "}\n",
    "\n",
    "# the first entry in each reach or node entry is a metadata dictionary\n",
    "patch_data['reach_data'][reachid]['metadata']={\n",
    "    'date_patch_added':'2023-10-10',\n",
    "    'person_responsible':'Mike Durand',\n",
    "    'reason_for_patch':'bad topology',\n",
    "    'patch_comment':'n/a'\n",
    "}\n",
    "\n",
    "# data elements to patch\n",
    "patch_data['reach_data'][reachid]['rch_id_dn']=[23212001164, 0, 0, 0]"
   ]
  },
  {
   "cell_type": "code",
   "execution_count": null,
   "id": "6194f148-5ae3-4cbb-b7e6-f4159702562d",
   "metadata": {},
   "outputs": [],
   "source": [
    "# create patch\n",
    "reachid='23212001164'\n",
    "\n",
    "patch_data['reach_data'][reachid]={    \n",
    "}\n",
    "\n",
    "# the first entry in each reach or node entry is a metadata dictionary\n",
    "patch_data['reach_data'][reachid]['metadata']={\n",
    "    'date_patch_added':'2023-10-10',\n",
    "    'person_responsible':'Mike Durand',\n",
    "    'reason_for_patch':'bad topology',\n",
    "    'patch_comment':'n/a'\n",
    "}\n",
    "\n",
    "# data elements to patch\n",
    "patch_data['reach_data'][reachid]['n_rch_up']=1\n",
    "patch_data['reach_data'][reachid]['rch_id_up']=[23212001171, 0, 0, 0]\n",
    "patch_data['reach_data'][reachid]['n_rch_down']=1\n",
    "patch_data['reach_data'][reachid]['rch_id_dn']=[23212001154, 0, 0, 0]"
   ]
  },
  {
   "cell_type": "code",
   "execution_count": null,
   "id": "f0aeeed4-5a8e-4baf-a326-05bb77c003a3",
   "metadata": {},
   "outputs": [],
   "source": [
    "# create patch\n",
    "reachid='23212001154'\n",
    "\n",
    "patch_data['reach_data'][reachid]={    \n",
    "}\n",
    "\n",
    "# the first entry in each reach or node entry is a metadata dictionary\n",
    "patch_data['reach_data'][reachid]['metadata']={\n",
    "    'date_patch_added':'2023-10-10',\n",
    "    'person_responsible':'Mike Durand',\n",
    "    'reason_for_patch':'bad topology',\n",
    "    'patch_comment':'n/a'\n",
    "}\n",
    "\n",
    "# data elements to patch\n",
    "patch_data['reach_data'][reachid]['n_rch_up']=1\n",
    "patch_data['reach_data'][reachid]['rch_id_up']=[23212001164, 0, 0, 0]\n",
    "patch_data['reach_data'][reachid]['n_rch_down']=1\n",
    "patch_data['reach_data'][reachid]['rch_id_dn']=[23212000584, 0, 0, 0]"
   ]
  },
  {
   "cell_type": "code",
   "execution_count": null,
   "id": "3434bf2f-d18b-42a5-bb2c-b969ae783d82",
   "metadata": {},
   "outputs": [],
   "source": [
    "# create patch\n",
    "reachid='23212000584'\n",
    "\n",
    "patch_data['reach_data'][reachid]={    \n",
    "}\n",
    "\n",
    "# the first entry in each reach or node entry is a metadata dictionary\n",
    "patch_data['reach_data'][reachid]['metadata']={\n",
    "    'date_patch_added':'2023-10-10',\n",
    "    'person_responsible':'Mike Durand',\n",
    "    'reason_for_patch':'bad topology',\n",
    "    'patch_comment':'n/a'\n",
    "}\n",
    "\n",
    "# data elements to patch\n",
    "patch_data['reach_data'][reachid]['n_rch_up']=1\n",
    "patch_data['reach_data'][reachid]['rch_id_up']=[23212001154, 0, 0, 0]\n",
    "patch_data['reach_data'][reachid]['n_rch_down']=1\n",
    "patch_data['reach_data'][reachid]['rch_id_dn']=[23212000574, 0, 0, 0]"
   ]
  },
  {
   "cell_type": "code",
   "execution_count": null,
   "id": "43944e95-6750-4638-8ae7-3e6b609beb0e",
   "metadata": {},
   "outputs": [],
   "source": [
    "# create patch\n",
    "reachid='23212000574'\n",
    "\n",
    "patch_data['reach_data'][reachid]={    \n",
    "}\n",
    "\n",
    "# the first entry in each reach or node entry is a metadata dictionary\n",
    "patch_data['reach_data'][reachid]['metadata']={\n",
    "    'date_patch_added':'2023-10-10',\n",
    "    'person_responsible':'Mike Durand',\n",
    "    'reason_for_patch':'bad topology',\n",
    "    'patch_comment':'n/a'\n",
    "}\n",
    "\n",
    "# data elements to patch\n",
    "patch_data['reach_data'][reachid]['n_rch_up']=1\n",
    "patch_data['reach_data'][reachid]['rch_id_up']=[23212000584, 0, 0, 0]\n",
    "patch_data['reach_data'][reachid]['n_rch_down']=1\n",
    "patch_data['reach_data'][reachid]['rch_id_dn']=[23212000561, 0, 0, 0]"
   ]
  },
  {
   "cell_type": "code",
   "execution_count": null,
   "id": "196b49b5-405a-45ea-a083-65222fa3cb11",
   "metadata": {},
   "outputs": [],
   "source": [
    "# apply patches \n",
    "domain_reach_data_fix=apply_sword_patches(patch_data,domain_reach_data)"
   ]
  },
  {
   "cell_type": "code",
   "execution_count": null,
   "id": "e5dda1d9-8a76-4bbe-9c2e-83a239cdfb5f",
   "metadata": {},
   "outputs": [],
   "source": [
    "Verbose=1 #show warnings too!\n",
    "nerrors,reaches_with_issues=check_topology(domain_reachids,domain_reach_data_fix,Verbose)\n",
    "\n",
    "print('There are a total of ',nerrors[1],'type 1 errors')\n",
    "print('There are a total of ',nerrors[2],'type 2 errors')"
   ]
  },
  {
   "cell_type": "markdown",
   "id": "0f522bcf-7683-45c9-bcfd-c09d5b30d6e3",
   "metadata": {},
   "source": [
    "That resolved 23212001164 yay."
   ]
  },
  {
   "cell_type": "markdown",
   "id": "9fdab6ed-1707-4948-98da-ab1156f64b3e",
   "metadata": {
    "jp-MarkdownHeadingCollapsed": true,
    "tags": []
   },
   "source": [
    "## Issue 3\n",
    "\n",
    "23212001185 is flagged\n",
    "* 23212001406 is fine\n",
    "* 23212001185 is actually fine \n",
    "* 23212001205 needs fixed: should point down to 23212001185,and point up to 23212001214\n"
   ]
  },
  {
   "cell_type": "code",
   "execution_count": null,
   "id": "8b08fae6-8268-4ad0-b704-138ddf8de9aa",
   "metadata": {},
   "outputs": [],
   "source": [
    "reachstr='23212001185'\n",
    "reachmap=plotIssueMap(L4basin,domain_reach_data,reachstr,domain_reachids)\n",
    "reachmap"
   ]
  },
  {
   "cell_type": "code",
   "execution_count": null,
   "id": "5a0a501f-4bc3-47f5-a53b-f1b7502b7a21",
   "metadata": {},
   "outputs": [],
   "source": [
    "# create patch\n",
    "reachid='23212001205'\n",
    "\n",
    "patch_data['reach_data'][reachid]={    \n",
    "}\n",
    "\n",
    "# the first entry in each reach or node entry is a metadata dictionary\n",
    "patch_data['reach_data'][reachid]['metadata']={\n",
    "    'date_patch_added':'2023-10-10',\n",
    "    'person_responsible':'Mike Durand',\n",
    "    'reason_for_patch':'bad topology',\n",
    "    'patch_comment':'n/a'\n",
    "}\n",
    "\n",
    "# data elements to patch\n",
    "patch_data['reach_data'][reachid]['rch_id_dn']=[23212001185, 0, 0, 0]\n",
    "patch_data['reach_data'][reachid]['rch_id_up']=[23212001214, 0, 0, 0]"
   ]
  },
  {
   "cell_type": "code",
   "execution_count": null,
   "id": "3ad02e5c-7949-4562-a265-826daccf3572",
   "metadata": {},
   "outputs": [],
   "source": [
    "# apply patches \n",
    "domain_reach_data_fix=apply_sword_patches(patch_data,domain_reach_data)"
   ]
  },
  {
   "cell_type": "code",
   "execution_count": null,
   "id": "8f798af8-e0eb-44a7-8d2e-fa5af2ab5b92",
   "metadata": {},
   "outputs": [],
   "source": [
    "Verbose=1 #show warnings too!\n",
    "nerrors,reaches_with_issues=check_topology(domain_reachids,domain_reach_data_fix,Verbose)\n",
    "\n",
    "print('There are a total of ',nerrors[1],'type 1 errors')\n",
    "print('There are a total of ',nerrors[2],'type 2 errors')"
   ]
  },
  {
   "cell_type": "markdown",
   "id": "5c646d82-bd44-4dcc-8d63-447e4537a6ed",
   "metadata": {
    "jp-MarkdownHeadingCollapsed": true,
    "tags": []
   },
   "source": [
    "## Issue 4\n",
    "\n",
    "23212001416 is flagged\n",
    "\n",
    "Ah there is a weird ghost there. I can just hop over it, I think."
   ]
  },
  {
   "cell_type": "code",
   "execution_count": null,
   "id": "ea701c2f-7e3a-4223-b73a-a1edffec1f59",
   "metadata": {},
   "outputs": [],
   "source": [
    "reachstr='23212001416'\n",
    "reachmap=plotIssueMap(L4basin,domain_reach_data,reachstr,domain_reachids)\n",
    "reachmap"
   ]
  },
  {
   "cell_type": "code",
   "execution_count": null,
   "id": "9077e1b3-9e87-4508-b91e-130361832439",
   "metadata": {},
   "outputs": [],
   "source": [
    "# create patch\n",
    "reachid='23212001416'\n",
    "\n",
    "patch_data['reach_data'][reachid]={    \n",
    "}\n",
    "\n",
    "# the first entry in each reach or node entry is a metadata dictionary\n",
    "patch_data['reach_data'][reachid]['metadata']={\n",
    "    'date_patch_added':'2023-10-10',\n",
    "    'person_responsible':'Mike Durand',\n",
    "    'reason_for_patch':'bad topology',\n",
    "    'patch_comment':'n/a'\n",
    "}\n",
    "\n",
    "# data elements to patch\n",
    "patch_data['reach_data'][reachid]['n_rch_up']=0\n",
    "patch_data['reach_data'][reachid]['rch_id_up']=[0, 0, 0, 0]\n",
    "patch_data['reach_data'][reachid]['n_rch_down']=0\n",
    "patch_data['reach_data'][reachid]['rch_id_dn']=[0, 0, 0, 0]\n"
   ]
  },
  {
   "cell_type": "code",
   "execution_count": null,
   "id": "e3b55e76-c189-4b9c-b457-02516edda2f6",
   "metadata": {},
   "outputs": [],
   "source": [
    "# apply patches \n",
    "domain_reach_data_fix=apply_sword_patches(patch_data,domain_reach_data)"
   ]
  },
  {
   "cell_type": "code",
   "execution_count": null,
   "id": "ca0f1011-129e-4122-9fba-d5a3d37588d1",
   "metadata": {},
   "outputs": [],
   "source": [
    "Verbose=1 #show warnings too!\n",
    "nerrors,reaches_with_issues=check_topology(domain_reachids,domain_reach_data_fix,Verbose)\n",
    "\n",
    "print('There are a total of ',nerrors[1],'type 1 errors')\n",
    "print('There are a total of ',nerrors[2],'type 2 errors')"
   ]
  },
  {
   "cell_type": "markdown",
   "id": "cd950e07-000f-4cc0-8d8c-62d4c32f3b03",
   "metadata": {},
   "source": [
    "Yay! 23212001416 is no longer in problem list"
   ]
  },
  {
   "cell_type": "markdown",
   "id": "1f00db2f-97f3-43a9-afbe-ffab9df91efc",
   "metadata": {
    "jp-MarkdownHeadingCollapsed": true,
    "tags": []
   },
   "source": [
    "## Issue 5\n",
    "\n",
    "23213000106 is flagged\n",
    "\n",
    "* 23213000106 needs fixed\" just need to set the n_rch_down to 0"
   ]
  },
  {
   "cell_type": "code",
   "execution_count": null,
   "id": "6baf6717-7616-4786-8687-6f7bbe98c9ec",
   "metadata": {},
   "outputs": [],
   "source": [
    "reachstr='23213000106'\n",
    "reachmap=plotIssueMap(L4basin,domain_reach_data,reachstr,domain_reachids)\n",
    "reachmap"
   ]
  },
  {
   "cell_type": "code",
   "execution_count": null,
   "id": "f7331c00-5e8c-4f7c-89bb-edc931160a02",
   "metadata": {},
   "outputs": [],
   "source": [
    "# create patch\n",
    "reachid='23213000106'\n",
    "\n",
    "patch_data['reach_data'][reachid]={    \n",
    "}\n",
    "\n",
    "# the first entry in each reach or node entry is a metadata dictionary\n",
    "patch_data['reach_data'][reachid]['metadata']={\n",
    "    'date_patch_added':'2023-10-10',\n",
    "    'person_responsible':'Mike Durand',\n",
    "    'reason_for_patch':'bad topology',\n",
    "    'patch_comment':'n/a'\n",
    "}\n",
    "\n",
    "# data elements to patch\n",
    "patch_data['reach_data'][reachid]['n_rch_down']=0\n"
   ]
  },
  {
   "cell_type": "code",
   "execution_count": null,
   "id": "163167ec-ceeb-4692-ad19-2c62f7a67084",
   "metadata": {},
   "outputs": [],
   "source": [
    "# apply patches \n",
    "domain_reach_data_fix=apply_sword_patches(patch_data,domain_reach_data)"
   ]
  },
  {
   "cell_type": "code",
   "execution_count": null,
   "id": "c04d8c7d-6660-4504-954d-bd81b1b1c082",
   "metadata": {},
   "outputs": [],
   "source": [
    "Verbose=1 #show warnings too!\n",
    "nerrors,reaches_with_issues=check_topology(domain_reachids,domain_reach_data_fix,Verbose)\n",
    "\n",
    "print('There are a total of ',nerrors[1],'type 1 errors')\n",
    "print('There are a total of ',nerrors[2],'type 2 errors')"
   ]
  },
  {
   "cell_type": "markdown",
   "id": "43e3fca6-090a-4f68-89dd-e9c8591e7a68",
   "metadata": {},
   "source": [
    "Yay! 23213000106 is no longer in problem list"
   ]
  },
  {
   "cell_type": "markdown",
   "id": "7a571db7-cb2f-42e6-ad2f-0d38386df49a",
   "metadata": {
    "jp-MarkdownHeadingCollapsed": true,
    "tags": []
   },
   "source": [
    "## Issue 6\n",
    "\n",
    "23214200404 is flagged, saying 23214200411 as an unrequited downstream neighbor\n",
    "\n",
    "* Upstream: Looks like 23214200451 is good, flowing the right direction. \n",
    "* Downstream: Looks like 23214200384 is good, flowing the right direction etc. \n",
    "\n",
    "\n",
    "All reaches in between need fixed: easier to fix 'em all rather than make changes consistent with SWORD\n",
    "\n",
    "* 23214200444\n",
    "* 23214200434\n",
    "* 23214200424\n",
    "* 23214200411\n",
    "* 23214200404\n",
    "* 23214200391\n",
    "\n",
    "Just line em up & knock em down!\n"
   ]
  },
  {
   "cell_type": "code",
   "execution_count": null,
   "id": "4edc1ceb-0a9f-48cd-9ff3-7764ea81dfaa",
   "metadata": {},
   "outputs": [],
   "source": [
    "reachstr='23214200404'\n",
    "reachmap=plotIssueMap(L4basin,domain_reach_data,reachstr,domain_reachids)\n",
    "reachmap"
   ]
  },
  {
   "cell_type": "code",
   "execution_count": null,
   "id": "9ed43545-7c6f-4cc4-abe5-ee661d30fcff",
   "metadata": {},
   "outputs": [],
   "source": [
    "# create patch\n",
    "reachid='23214200444'\n",
    "\n",
    "patch_data['reach_data'][reachid]={    \n",
    "}\n",
    "\n",
    "# the first entry in each reach or node entry is a metadata dictionary\n",
    "patch_data['reach_data'][reachid]['metadata']={\n",
    "    'date_patch_added':'2023-10-10',\n",
    "    'person_responsible':'Mike Durand',\n",
    "    'reason_for_patch':'bad topology',\n",
    "    'patch_comment':'n/a'\n",
    "}\n",
    "\n",
    "# data elements to patch\n",
    "patch_data['reach_data'][reachid]['n_rch_up']=1\n",
    "patch_data['reach_data'][reachid]['rch_id_up']=[23214200451, 0, 0, 0]\n",
    "patch_data['reach_data'][reachid]['n_rch_down']=1\n",
    "patch_data['reach_data'][reachid]['rch_id_dn']=[23214200434, 0, 0, 0]\n"
   ]
  },
  {
   "cell_type": "code",
   "execution_count": null,
   "id": "ac3c9091-c482-4163-8e34-a4216b46b349",
   "metadata": {},
   "outputs": [],
   "source": [
    "# create patch\n",
    "reachid='23214200434'\n",
    "\n",
    "patch_data['reach_data'][reachid]={    \n",
    "}\n",
    "\n",
    "# the first entry in each reach or node entry is a metadata dictionary\n",
    "patch_data['reach_data'][reachid]['metadata']={\n",
    "    'date_patch_added':'2023-10-10',\n",
    "    'person_responsible':'Mike Durand',\n",
    "    'reason_for_patch':'bad topology',\n",
    "    'patch_comment':'n/a'\n",
    "}\n",
    "\n",
    "# data elements to patch\n",
    "patch_data['reach_data'][reachid]['n_rch_up']=1\n",
    "patch_data['reach_data'][reachid]['rch_id_up']=[23214200444, 0, 0, 0]\n",
    "patch_data['reach_data'][reachid]['n_rch_down']=1\n",
    "patch_data['reach_data'][reachid]['rch_id_dn']=[23214200424, 0, 0, 0]\n"
   ]
  },
  {
   "cell_type": "code",
   "execution_count": null,
   "id": "a510f0c0-1c00-40b1-ad87-8f75cda25b1b",
   "metadata": {},
   "outputs": [],
   "source": [
    "# create patch\n",
    "reachid='23214200424'\n",
    "\n",
    "patch_data['reach_data'][reachid]={    \n",
    "}\n",
    "\n",
    "# the first entry in each reach or node entry is a metadata dictionary\n",
    "patch_data['reach_data'][reachid]['metadata']={\n",
    "    'date_patch_added':'2023-10-10',\n",
    "    'person_responsible':'Mike Durand',\n",
    "    'reason_for_patch':'bad topology',\n",
    "    'patch_comment':'n/a'\n",
    "}\n",
    "\n",
    "# data elements to patch\n",
    "patch_data['reach_data'][reachid]['n_rch_up']=1\n",
    "patch_data['reach_data'][reachid]['rch_id_up']=[23214200434, 0, 0, 0]\n",
    "patch_data['reach_data'][reachid]['n_rch_down']=1\n",
    "patch_data['reach_data'][reachid]['rch_id_dn']=[23214200411, 0, 0, 0]\n"
   ]
  },
  {
   "cell_type": "code",
   "execution_count": null,
   "id": "86d8a2c7-606c-4d41-9f50-65b0e14614c8",
   "metadata": {},
   "outputs": [],
   "source": [
    "# create patch\n",
    "reachid='23214200411'\n",
    "\n",
    "patch_data['reach_data'][reachid]={    \n",
    "}\n",
    "\n",
    "# the first entry in each reach or node entry is a metadata dictionary\n",
    "patch_data['reach_data'][reachid]['metadata']={\n",
    "    'date_patch_added':'2023-10-10',\n",
    "    'person_responsible':'Mike Durand',\n",
    "    'reason_for_patch':'bad topology',\n",
    "    'patch_comment':'n/a'\n",
    "}\n",
    "\n",
    "# data elements to patch\n",
    "patch_data['reach_data'][reachid]['n_rch_up']=1\n",
    "patch_data['reach_data'][reachid]['rch_id_up']=[23214200424, 0, 0, 0]\n",
    "patch_data['reach_data'][reachid]['n_rch_down']=1\n",
    "patch_data['reach_data'][reachid]['rch_id_dn']=[23214200404, 0, 0, 0]\n"
   ]
  },
  {
   "cell_type": "code",
   "execution_count": null,
   "id": "43ed657a-bb95-4889-b054-4c772ec5ed00",
   "metadata": {},
   "outputs": [],
   "source": [
    "# create patch\n",
    "reachid='23214200404'\n",
    "\n",
    "patch_data['reach_data'][reachid]={    \n",
    "}\n",
    "\n",
    "# the first entry in each reach or node entry is a metadata dictionary\n",
    "patch_data['reach_data'][reachid]['metadata']={\n",
    "    'date_patch_added':'2023-10-10',\n",
    "    'person_responsible':'Mike Durand',\n",
    "    'reason_for_patch':'bad topology',\n",
    "    'patch_comment':'n/a'\n",
    "}\n",
    "\n",
    "# data elements to patch\n",
    "patch_data['reach_data'][reachid]['n_rch_up']=1\n",
    "patch_data['reach_data'][reachid]['rch_id_up']=[23214200411, 0, 0, 0]\n",
    "patch_data['reach_data'][reachid]['n_rch_down']=1\n",
    "patch_data['reach_data'][reachid]['rch_id_dn']=[23214200391, 0, 0, 0]\n"
   ]
  },
  {
   "cell_type": "code",
   "execution_count": null,
   "id": "b3bf267f-9dcd-4035-b134-caf974d2797c",
   "metadata": {},
   "outputs": [],
   "source": [
    "# create patch\n",
    "reachid='23214200391'\n",
    "\n",
    "patch_data['reach_data'][reachid]={    \n",
    "}\n",
    "\n",
    "# the first entry in each reach or node entry is a metadata dictionary\n",
    "patch_data['reach_data'][reachid]['metadata']={\n",
    "    'date_patch_added':'2023-10-10',\n",
    "    'person_responsible':'Mike Durand',\n",
    "    'reason_for_patch':'bad topology',\n",
    "    'patch_comment':'n/a'\n",
    "}\n",
    "\n",
    "# data elements to patch\n",
    "patch_data['reach_data'][reachid]['n_rch_up']=1\n",
    "patch_data['reach_data'][reachid]['rch_id_up']=[23214200404, 0, 0, 0]\n",
    "patch_data['reach_data'][reachid]['n_rch_down']=1\n",
    "patch_data['reach_data'][reachid]['rch_id_dn']=[23214200384, 0, 0, 0]\n"
   ]
  },
  {
   "cell_type": "code",
   "execution_count": null,
   "id": "8e423752-08bc-418b-821a-411a4b3513ec",
   "metadata": {},
   "outputs": [],
   "source": [
    "# apply patches \n",
    "domain_reach_data_fix=apply_sword_patches(patch_data,domain_reach_data)"
   ]
  },
  {
   "cell_type": "code",
   "execution_count": null,
   "id": "c0b33402-c0c3-4bfe-8e89-fb74cab63603",
   "metadata": {},
   "outputs": [],
   "source": [
    "Verbose=1 #show warnings too!\n",
    "nerrors,reaches_with_issues=check_topology(domain_reachids,domain_reach_data_fix,Verbose)\n",
    "\n",
    "print('There are a total of ',nerrors[1],'type 1 errors')\n",
    "print('There are a total of ',nerrors[2],'type 2 errors')\n",
    "\n",
    "print('Is reach of interest still in reaches with issues list?',  '23214200404' in reaches_with_issues)\n"
   ]
  },
  {
   "cell_type": "markdown",
   "id": "8b5d4c3e-7cc6-47d1-b5cf-280b7e57fee9",
   "metadata": {},
   "source": [
    "**Yay! Issue 6 closed!**"
   ]
  },
  {
   "cell_type": "markdown",
   "id": "a8dd961a-6542-431e-809a-9e2fe1b41111",
   "metadata": {
    "jp-MarkdownHeadingCollapsed": true,
    "tags": []
   },
   "source": [
    "## Issue 7\n",
    "\n",
    "23214300223 is flagged\n",
    "\n",
    "Ok it's a one point reach. Can fix by just disconnecting from other reaches."
   ]
  },
  {
   "cell_type": "code",
   "execution_count": null,
   "id": "d20afd72-e41b-4dfc-be3d-1d1ff7169fb5",
   "metadata": {},
   "outputs": [],
   "source": [
    "reachstr='23214300223'\n",
    "reachmap=plotIssueMap(L4basin,domain_reach_data,reachstr,domain_reachids)\n",
    "reachmap"
   ]
  },
  {
   "cell_type": "code",
   "execution_count": null,
   "id": "8eb13e61-60f8-497f-b1fb-e628dda0c4f8",
   "metadata": {},
   "outputs": [],
   "source": [
    "domain_reach_data['23214300223']"
   ]
  },
  {
   "cell_type": "code",
   "execution_count": null,
   "id": "47d6ddaf-9c58-4c67-a52e-dfe97aba9390",
   "metadata": {},
   "outputs": [],
   "source": [
    "# create patch\n",
    "reachid='23214300223'\n",
    "\n",
    "patch_data['reach_data'][reachid]={    \n",
    "}\n",
    "\n",
    "# the first entry in each reach or node entry is a metadata dictionary\n",
    "patch_data['reach_data'][reachid]['metadata']={\n",
    "    'date_patch_added':'2023-10-10',\n",
    "    'person_responsible':'Mike Durand',\n",
    "    'reason_for_patch':'bad topology',\n",
    "    'patch_comment':'n/a'\n",
    "}\n",
    "\n",
    "# data elements to patch\n",
    "patch_data['reach_data'][reachid]['n_rch_up']=0\n",
    "patch_data['reach_data'][reachid]['rch_id_up']=[0, 0, 0, 0]\n",
    "patch_data['reach_data'][reachid]['n_rch_down']=0\n",
    "patch_data['reach_data'][reachid]['rch_id_dn']=[0, 0, 0, 0]\n"
   ]
  },
  {
   "cell_type": "code",
   "execution_count": null,
   "id": "91e8d766-b60d-4386-99d8-3e0f60721b68",
   "metadata": {},
   "outputs": [],
   "source": [
    "# apply patches \n",
    "domain_reach_data_fix=apply_sword_patches(patch_data,domain_reach_data)"
   ]
  },
  {
   "cell_type": "code",
   "execution_count": null,
   "id": "3787769c-cf0c-4312-a207-24fe5f981bda",
   "metadata": {},
   "outputs": [],
   "source": [
    "Verbose=1 #show warnings too!\n",
    "nerrors,reaches_with_issues=check_topology(domain_reachids,domain_reach_data_fix,Verbose)\n",
    "\n",
    "print('There are a total of ',nerrors[1],'type 1 errors')\n",
    "print('There are a total of ',nerrors[2],'type 2 errors')\n",
    "print('Is reach of interest still in reaches with issues list?',  'xxxx' in reaches_with_issues)\n"
   ]
  },
  {
   "cell_type": "markdown",
   "id": "feb42b89-e1b8-4c18-8349-a649e2efac82",
   "metadata": {},
   "source": [
    "**Yay! Issue 7 closed!**"
   ]
  },
  {
   "cell_type": "markdown",
   "id": "9f7dc7f0-f56e-43bc-a15a-63a4e67e4585",
   "metadata": {
    "tags": []
   },
   "source": [
    "## Issue 8\n",
    "\n",
    "23216000714 is flagged: 23216000714 says 23216000721 is a downstream neighbor, but the neighbor designation is unrequited\n",
    "\n",
    "Looks like the river is running the right direction overall\n",
    "\n",
    "* 23216000721 looks ok (upstream)\n",
    "* 23216000714 needs fixed\n",
    "* 23216000854 needs fixed\n",
    "* 23216000841 looks ok (downstream end)"
   ]
  },
  {
   "cell_type": "code",
   "execution_count": null,
   "id": "e7317a8c-c471-40af-b3fd-c1350e842e13",
   "metadata": {},
   "outputs": [],
   "source": [
    "reachstr='23216000714'\n",
    "reachmap=plotIssueMap(L4basin,domain_reach_data,reachstr,domain_reachids)\n",
    "reachmap"
   ]
  },
  {
   "cell_type": "code",
   "execution_count": null,
   "id": "1aea6af2-09b3-434d-960a-c0f2c0e04d53",
   "metadata": {},
   "outputs": [],
   "source": [
    "# create patch\n",
    "reachid='23216000714'\n",
    "\n",
    "patch_data['reach_data'][reachid]={    \n",
    "}\n",
    "\n",
    "# the first entry in each reach or node entry is a metadata dictionary\n",
    "patch_data['reach_data'][reachid]['metadata']={\n",
    "    'date_patch_added':'2023-10-10',\n",
    "    'person_responsible':'Mike Durand',\n",
    "    'reason_for_patch':'bad topology',\n",
    "    'patch_comment':'n/a'\n",
    "}\n",
    "\n",
    "# data elements to patch\n",
    "patch_data['reach_data'][reachid]['n_rch_up']=1\n",
    "patch_data['reach_data'][reachid]['rch_id_up']=[23216000721, 0, 0, 0]\n",
    "patch_data['reach_data'][reachid]['n_rch_down']=1\n",
    "patch_data['reach_data'][reachid]['rch_id_dn']=[23216000854, 0, 0, 0]\n"
   ]
  },
  {
   "cell_type": "code",
   "execution_count": null,
   "id": "89474e56-7ceb-4d09-bbd7-4a8fdc6ee1aa",
   "metadata": {},
   "outputs": [],
   "source": [
    "# create patch\n",
    "reachid='23216000854'\n",
    "\n",
    "patch_data['reach_data'][reachid]={    \n",
    "}\n",
    "\n",
    "# the first entry in each reach or node entry is a metadata dictionary\n",
    "patch_data['reach_data'][reachid]['metadata']={\n",
    "    'date_patch_added':'2023-10-10',\n",
    "    'person_responsible':'Mike Durand',\n",
    "    'reason_for_patch':'bad topology',\n",
    "    'patch_comment':'n/a'\n",
    "}\n",
    "\n",
    "# data elements to patch\n",
    "patch_data['reach_data'][reachid]['n_rch_up']=1\n",
    "patch_data['reach_data'][reachid]['rch_id_up']=[23216000714, 0, 0, 0]\n",
    "patch_data['reach_data'][reachid]['n_rch_down']=1\n",
    "patch_data['reach_data'][reachid]['rch_id_dn']=[23216000841, 0, 0, 0]\n"
   ]
  },
  {
   "cell_type": "code",
   "execution_count": null,
   "id": "cab82798-e0ff-433d-8925-2d0394d5b59a",
   "metadata": {},
   "outputs": [],
   "source": [
    "# apply patches \n",
    "domain_reach_data_fix=apply_sword_patches(patch_data,domain_reach_data)"
   ]
  },
  {
   "cell_type": "code",
   "execution_count": null,
   "id": "5791d784-8ac3-42c8-b036-c8a9fcf2b752",
   "metadata": {},
   "outputs": [],
   "source": [
    "Verbose=1 #show warnings too!\n",
    "nerrors,reaches_with_issues=check_topology(domain_reachids,domain_reach_data_fix,Verbose)\n",
    "\n",
    "print('There are a total of ',nerrors[1],'type 1 errors')\n",
    "print('There are a total of ',nerrors[2],'type 2 errors')\n",
    "print('Is reach of interest still in reaches with issues list?',  'xxxx' in reaches_with_issues)\n"
   ]
  },
  {
   "cell_type": "markdown",
   "id": "f73e56a2-0789-4f36-b686-c5dddea8ae41",
   "metadata": {},
   "source": [
    "**Yay! Issue 8 closed!**"
   ]
  },
  {
   "cell_type": "markdown",
   "id": "4e02b014-b9e6-4cbf-96d2-106199676941",
   "metadata": {},
   "source": [
    "## Issue 9\n",
    "\n",
    "23216000781 says 23216000794 is an upstream neighbor, but the neighbor designation is unrequited\n"
   ]
  },
  {
   "cell_type": "code",
   "execution_count": null,
   "id": "aceca501-2d72-4f88-9b32-7d4fa9c30c36",
   "metadata": {},
   "outputs": [],
   "source": [
    "reachstr='23216000781'\n",
    "reachmap=plotIssueMap(L4basin,domain_reach_data,reachstr,domain_reachids)\n",
    "reachmap"
   ]
  },
  {
   "cell_type": "markdown",
   "id": "66e9c584-5198-4ab0-b471-0e380b2279d8",
   "metadata": {},
   "source": [
    "### Analysis\n",
    "\n",
    "* River seems to be running in right direction overall\n",
    "* 23216000874 seems ok (upstream end)\n",
    "* 23216000861 needs fixed\n",
    "* 23216000794 needs fixed\n",
    "* 23216000781 seems ok (downstream end)"
   ]
  },
  {
   "cell_type": "code",
   "execution_count": null,
   "id": "c1005e28-e545-42c6-bc2f-88b1669f5741",
   "metadata": {},
   "outputs": [],
   "source": [
    "# create patch\n",
    "reachid='23216000861'\n",
    "\n",
    "patch_data['reach_data'][reachid]={    \n",
    "}\n",
    "\n",
    "# the first entry in each reach or node entry is a metadata dictionary\n",
    "patch_data['reach_data'][reachid]['metadata']={\n",
    "    'date_patch_added':'2023-10-10',\n",
    "    'person_responsible':'Mike Durand',\n",
    "    'reason_for_patch':'bad topology',\n",
    "    'patch_comment':'n/a'\n",
    "}\n",
    "\n",
    "# data elements to patch\n",
    "patch_data['reach_data'][reachid]['n_rch_up']=1\n",
    "patch_data['reach_data'][reachid]['rch_id_up']=[23216000874, 0, 0, 0]\n",
    "patch_data['reach_data'][reachid]['n_rch_down']=1\n",
    "patch_data['reach_data'][reachid]['rch_id_dn']=[23216000794 , 0, 0, 0]\n"
   ]
  },
  {
   "cell_type": "code",
   "execution_count": null,
   "id": "529ca3ee-2768-4704-bd6f-306b290cfa2e",
   "metadata": {},
   "outputs": [],
   "source": [
    "# create patch\n",
    "reachid='23216000794'\n",
    "\n",
    "patch_data['reach_data'][reachid]={    \n",
    "}\n",
    "\n",
    "# the first entry in each reach or node entry is a metadata dictionary\n",
    "patch_data['reach_data'][reachid]['metadata']={\n",
    "    'date_patch_added':'2023-10-10',\n",
    "    'person_responsible':'Mike Durand',\n",
    "    'reason_for_patch':'bad topology',\n",
    "    'patch_comment':'n/a'\n",
    "}\n",
    "\n",
    "# data elements to patch\n",
    "patch_data['reach_data'][reachid]['n_rch_up']=1\n",
    "patch_data['reach_data'][reachid]['rch_id_up']=[23216000861, 0, 0, 0]\n",
    "patch_data['reach_data'][reachid]['n_rch_down']=1\n",
    "patch_data['reach_data'][reachid]['rch_id_dn']=[23216000781 , 0, 0, 0]\n"
   ]
  },
  {
   "cell_type": "code",
   "execution_count": null,
   "id": "3dbff13f-efb1-4a27-ae1e-d7dfd6b72a09",
   "metadata": {},
   "outputs": [],
   "source": [
    "# apply patches \n",
    "domain_reach_data_fix=apply_sword_patches(patch_data,domain_reach_data)"
   ]
  },
  {
   "cell_type": "code",
   "execution_count": null,
   "id": "8255e993-e954-4229-b516-85dbfb50294e",
   "metadata": {},
   "outputs": [],
   "source": [
    "Verbose=1 #show warnings too!\n",
    "nerrors,reaches_with_issues=check_topology(domain_reachids,domain_reach_data_fix,Verbose)\n",
    "\n",
    "print('There are a total of ',nerrors[1],'type 1 errors')\n",
    "print('There are a total of ',nerrors[2],'type 2 errors')\n",
    "print('Is reach of interest still in reaches with issues list?',  '23216000781' in reaches_with_issues)\n"
   ]
  },
  {
   "cell_type": "markdown",
   "id": "c146e6d7-60e5-49d3-950a-e90db95edacc",
   "metadata": {},
   "source": [
    "**Yay! Issue n closed!**\n",
    "\n",
    "Although, another thing has cropped up, so error count stays the same :("
   ]
  },
  {
   "cell_type": "markdown",
   "id": "6fbf1f74-76d6-4704-aa44-704489216dee",
   "metadata": {},
   "source": [
    "## Issue 10\n",
    "\n",
    "23216000011 says 23216000861 is an upstream neighbor, but the neighbor designation is unrequited"
   ]
  },
  {
   "cell_type": "code",
   "execution_count": null,
   "id": "db64722c-e7cd-41ac-90b7-87a78aa4dd90",
   "metadata": {},
   "outputs": [],
   "source": [
    "reachstr='23216000011'\n",
    "reachmap=plotIssueMap(L4basin,domain_reach_data,reachstr,domain_reachids)\n",
    "reachmap"
   ]
  },
  {
   "cell_type": "code",
   "execution_count": null,
   "id": "3edbdf92-fd31-4b81-b89c-7ed2d6903ac7",
   "metadata": {},
   "outputs": [],
   "source": [
    "domain_reach_data['23216000011']"
   ]
  },
  {
   "cell_type": "markdown",
   "id": "4203fc52-4e72-4f1b-a390-16c64b453bf2",
   "metadata": {},
   "source": [
    "### Analysis\n",
    "\n",
    "23216000011 seems to be a phantom reach. I'll just disconnect it from its two upsteram connections, and we should be good."
   ]
  },
  {
   "cell_type": "code",
   "execution_count": null,
   "id": "70faf277-6e57-4da7-9d46-2b96121c0d27",
   "metadata": {},
   "outputs": [],
   "source": [
    "# create patch\n",
    "reachid='23216000011'\n",
    "\n",
    "patch_data['reach_data'][reachid]={    \n",
    "}\n",
    "\n",
    "# the first entry in each reach or node entry is a metadata dictionary\n",
    "patch_data['reach_data'][reachid]['metadata']={\n",
    "    'date_patch_added':'2023-10-10',\n",
    "    'person_responsible':'Mike Durand',\n",
    "    'reason_for_patch':'bad topology',\n",
    "    'patch_comment':'n/a'\n",
    "}\n",
    "\n",
    "# data elements to patch\n",
    "patch_data['reach_data'][reachid]['n_rch_up']=0\n",
    "patch_data['reach_data'][reachid]['rch_id_up']=[0, 0, 0, 0]\n",
    "patch_data['reach_data'][reachid]['n_rch_down']=0\n",
    "patch_data['reach_data'][reachid]['rch_id_dn']=[0, 0, 0, 0]\n"
   ]
  },
  {
   "cell_type": "code",
   "execution_count": null,
   "id": "55c11e19-3958-45ca-9246-9f9c9d773679",
   "metadata": {},
   "outputs": [],
   "source": [
    "# apply patches \n",
    "domain_reach_data_fix=apply_sword_patches(patch_data,domain_reach_data)"
   ]
  },
  {
   "cell_type": "code",
   "execution_count": null,
   "id": "3772b553-867d-4c6c-afeb-91d726a46ba7",
   "metadata": {},
   "outputs": [],
   "source": [
    "Verbose=1 #show warnings too!\n",
    "nerrors,reaches_with_issues=check_topology(domain_reachids,domain_reach_data_fix,Verbose)\n",
    "\n",
    "print('There are a total of ',nerrors[1],'type 1 errors')\n",
    "print('There are a total of ',nerrors[2],'type 2 errors')\n",
    "print('Is reach of interest still in reaches with issues list?',  '23216000781' in reaches_with_issues)\n"
   ]
  },
  {
   "cell_type": "markdown",
   "id": "f87b15b5-51dc-4c4a-b953-416e896bcc46",
   "metadata": {},
   "source": [
    "**Yay! Issue 10 closed!**"
   ]
  },
  {
   "cell_type": "markdown",
   "id": "eeba16ab-04a3-4021-977d-5b1c459826cf",
   "metadata": {},
   "source": [
    "## Issue 11\n",
    "\n",
    "23216000831 says 23216000841 is a downstream neighbor, but the neighbor designation is unrequited"
   ]
  },
  {
   "cell_type": "code",
   "execution_count": null,
   "id": "db688401-cebd-43b4-9b20-442a3f3e33f3",
   "metadata": {},
   "outputs": [],
   "source": [
    "reachstr='23216000831'\n",
    "reachmap=plotIssueMap(L4basin,domain_reach_data,reachstr,domain_reachids)\n",
    "reachmap"
   ]
  },
  {
   "cell_type": "markdown",
   "id": "4270009f-4a8d-42de-834f-9339fc4bb28c",
   "metadata": {},
   "source": [
    "### Analysis\n",
    "\n",
    "Looks like just 23216000831 needs fixed"
   ]
  },
  {
   "cell_type": "code",
   "execution_count": null,
   "id": "af681ec0-0a97-4c81-a169-fa450c610fee",
   "metadata": {},
   "outputs": [],
   "source": [
    "# create patch\n",
    "reachid='23216000831'\n",
    "\n",
    "patch_data['reach_data'][reachid]={    \n",
    "}\n",
    "\n",
    "# the first entry in each reach or node entry is a metadata dictionary\n",
    "patch_data['reach_data'][reachid]['metadata']={\n",
    "    'date_patch_added':'2023-10-10',\n",
    "    'person_responsible':'Mike Durand',\n",
    "    'reason_for_patch':'bad topology',\n",
    "    'patch_comment':'n/a'\n",
    "}\n",
    "\n",
    "# data elements to patch\n",
    "patch_data['reach_data'][reachid]['n_rch_up']=1\n",
    "patch_data['reach_data'][reachid]['rch_id_up']=[23216000841, 0, 0, 0]\n",
    "patch_data['reach_data'][reachid]['n_rch_down']=1\n",
    "patch_data['reach_data'][reachid]['rch_id_dn']=[23216001565, 0, 0, 0]\n"
   ]
  },
  {
   "cell_type": "code",
   "execution_count": null,
   "id": "bfeac2b9-4ba6-485f-b100-2e0c89e5f8bb",
   "metadata": {},
   "outputs": [],
   "source": [
    "# apply patches \n",
    "domain_reach_data_fix=apply_sword_patches(patch_data,domain_reach_data)"
   ]
  },
  {
   "cell_type": "code",
   "execution_count": null,
   "id": "eec1db91-c7be-4e7f-984a-d780dc3034aa",
   "metadata": {},
   "outputs": [],
   "source": [
    "Verbose=1 #show warnings too!\n",
    "nerrors,reaches_with_issues=check_topology(domain_reachids,domain_reach_data_fix,Verbose)\n",
    "\n",
    "print('There are a total of ',nerrors[1],'type 1 errors')\n",
    "print('There are a total of ',nerrors[2],'type 2 errors')\n",
    "print('Is reach of interest still in reaches with issues list?',  '23216000831' in reaches_with_issues)\n"
   ]
  },
  {
   "cell_type": "markdown",
   "id": "090f85a1-05db-4a6e-87a6-6963b167895c",
   "metadata": {},
   "source": [
    "**Yay! Issue 11 resolved!**"
   ]
  },
  {
   "cell_type": "markdown",
   "id": "6387b138-3e17-428f-8517-9208ade1110d",
   "metadata": {},
   "source": [
    "## Issue 12\n",
    "\n",
    "23218000534 says 23218000524 is a downstream neighbor, but the neighbor designation is unrequited"
   ]
  },
  {
   "cell_type": "code",
   "execution_count": null,
   "id": "103c3dd4-29d3-4f2d-9b86-37f49d3f9f64",
   "metadata": {},
   "outputs": [],
   "source": [
    "reachstr='23218000534'\n",
    "reachmap=plotIssueMap(L4basin,domain_reach_data,reachstr,domain_reachids)\n",
    "reachmap"
   ]
  },
  {
   "cell_type": "markdown",
   "id": "7441ab23-10da-4248-9a81-2b7a8525fa58",
   "metadata": {},
   "source": [
    "### Analysis\n",
    "\n",
    "* 23218000151 looks good on the upstream end\n",
    "* 23218000574 looks ok\n",
    "* 23218000561 needs fixed\n",
    "* 23218000554 needs fixed\n",
    "* 23218000544 needs fixed\n",
    "* 23218000534 needs fixed\n",
    "* 23218000524 needs fixed\n",
    "* 23218000511 looks good on downstream end"
   ]
  },
  {
   "cell_type": "code",
   "execution_count": null,
   "id": "bbd18df4-23ea-4d61-aa5d-ef142ee38eaa",
   "metadata": {},
   "outputs": [],
   "source": [
    "# create patch\n",
    "reachid='23218000561'\n",
    "\n",
    "patch_data['reach_data'][reachid]={    \n",
    "}\n",
    "\n",
    "# the first entry in each reach or node entry is a metadata dictionary\n",
    "patch_data['reach_data'][reachid]['metadata']={\n",
    "    'date_patch_added':'2023-10-10',\n",
    "    'person_responsible':'Mike Durand',\n",
    "    'reason_for_patch':'bad topology',\n",
    "    'patch_comment':'n/a'\n",
    "}\n",
    "\n",
    "# data elements to patch\n",
    "patch_data['reach_data'][reachid]['n_rch_up']=1\n",
    "patch_data['reach_data'][reachid]['rch_id_up']=[23218000574, 0, 0, 0]\n",
    "patch_data['reach_data'][reachid]['n_rch_down']=1\n",
    "patch_data['reach_data'][reachid]['rch_id_dn']=[23218000554, 0, 0, 0]"
   ]
  },
  {
   "cell_type": "code",
   "execution_count": null,
   "id": "be00871b-078c-4e96-a7ad-ef981899728f",
   "metadata": {},
   "outputs": [],
   "source": [
    "# create patch\n",
    "reachid='23218000554'\n",
    "\n",
    "patch_data['reach_data'][reachid]={    \n",
    "}\n",
    "\n",
    "# the first entry in each reach or node entry is a metadata dictionary\n",
    "patch_data['reach_data'][reachid]['metadata']={\n",
    "    'date_patch_added':'2023-10-10',\n",
    "    'person_responsible':'Mike Durand',\n",
    "    'reason_for_patch':'bad topology',\n",
    "    'patch_comment':'n/a'\n",
    "}\n",
    "\n",
    "# data elements to patch\n",
    "patch_data['reach_data'][reachid]['n_rch_up']=1\n",
    "patch_data['reach_data'][reachid]['rch_id_up']=[23218000561, 0, 0, 0]\n",
    "patch_data['reach_data'][reachid]['n_rch_down']=1\n",
    "patch_data['reach_data'][reachid]['rch_id_dn']=[23218000544, 0, 0, 0]"
   ]
  },
  {
   "cell_type": "code",
   "execution_count": null,
   "id": "e8f1cc08-4409-4cf4-af1c-8894472cc337",
   "metadata": {},
   "outputs": [],
   "source": [
    "# create patch\n",
    "reachid='23218000544'\n",
    "\n",
    "patch_data['reach_data'][reachid]={    \n",
    "}\n",
    "\n",
    "# the first entry in each reach or node entry is a metadata dictionary\n",
    "patch_data['reach_data'][reachid]['metadata']={\n",
    "    'date_patch_added':'2023-10-10',\n",
    "    'person_responsible':'Mike Durand',\n",
    "    'reason_for_patch':'bad topology',\n",
    "    'patch_comment':'n/a'\n",
    "}\n",
    "\n",
    "# data elements to patch\n",
    "patch_data['reach_data'][reachid]['n_rch_up']=1\n",
    "patch_data['reach_data'][reachid]['rch_id_up']=[23218000554, 0, 0, 0]\n",
    "patch_data['reach_data'][reachid]['n_rch_down']=1\n",
    "patch_data['reach_data'][reachid]['rch_id_dn']=[23218000534, 0, 0, 0]"
   ]
  },
  {
   "cell_type": "code",
   "execution_count": null,
   "id": "c5b7c8d7-3fbb-44a0-8e5d-91b047dc8982",
   "metadata": {},
   "outputs": [],
   "source": [
    "# create patch\n",
    "reachid='23218000534'\n",
    "\n",
    "patch_data['reach_data'][reachid]={    \n",
    "}\n",
    "\n",
    "# the first entry in each reach or node entry is a metadata dictionary\n",
    "patch_data['reach_data'][reachid]['metadata']={\n",
    "    'date_patch_added':'2023-10-10',\n",
    "    'person_responsible':'Mike Durand',\n",
    "    'reason_for_patch':'bad topology',\n",
    "    'patch_comment':'n/a'\n",
    "}\n",
    "\n",
    "# data elements to patch\n",
    "patch_data['reach_data'][reachid]['n_rch_up']=1\n",
    "patch_data['reach_data'][reachid]['rch_id_up']=[23218000544, 0, 0, 0]\n",
    "patch_data['reach_data'][reachid]['n_rch_down']=1\n",
    "patch_data['reach_data'][reachid]['rch_id_dn']=[23218000524, 0, 0, 0]"
   ]
  },
  {
   "cell_type": "code",
   "execution_count": null,
   "id": "c672caa2-0221-44ac-b93d-aff358e490fd",
   "metadata": {},
   "outputs": [],
   "source": [
    "# create patch\n",
    "reachid='23218000524'\n",
    "\n",
    "patch_data['reach_data'][reachid]={    \n",
    "}\n",
    "\n",
    "# the first entry in each reach or node entry is a metadata dictionary\n",
    "patch_data['reach_data'][reachid]['metadata']={\n",
    "    'date_patch_added':'2023-10-10',\n",
    "    'person_responsible':'Mike Durand',\n",
    "    'reason_for_patch':'bad topology',\n",
    "    'patch_comment':'n/a'\n",
    "}\n",
    "\n",
    "# data elements to patch\n",
    "patch_data['reach_data'][reachid]['n_rch_up']=1\n",
    "patch_data['reach_data'][reachid]['rch_id_up']=[23218000534, 0, 0, 0]\n",
    "patch_data['reach_data'][reachid]['n_rch_down']=1\n",
    "patch_data['reach_data'][reachid]['rch_id_dn']=[23218000511, 0, 0, 0]"
   ]
  },
  {
   "cell_type": "code",
   "execution_count": null,
   "id": "71cd11ab-a68b-4fdc-a65a-b35fb4fafb04",
   "metadata": {},
   "outputs": [],
   "source": [
    "# apply patches \n",
    "domain_reach_data_fix=apply_sword_patches(patch_data,domain_reach_data)"
   ]
  },
  {
   "cell_type": "code",
   "execution_count": null,
   "id": "283b3109-aeaf-4db2-a0e0-09f0f1e8d255",
   "metadata": {},
   "outputs": [],
   "source": [
    "Verbose=1 #show warnings too!\n",
    "nerrors,reaches_with_issues=check_topology(domain_reachids,domain_reach_data_fix,Verbose)\n",
    "\n",
    "print('There are a total of ',nerrors[1],'type 1 errors')\n",
    "print('There are a total of ',nerrors[2],'type 2 errors')\n",
    "print('Is reach of interest still in reaches with issues list?',  '23216000781' in reaches_with_issues)\n"
   ]
  },
  {
   "cell_type": "markdown",
   "id": "9e4fda8f-5b0f-4b6c-877c-c3d1cbda8260",
   "metadata": {},
   "source": [
    "**Yay! All issues closed!**"
   ]
  },
  {
   "cell_type": "markdown",
   "id": "fd16ab2a-1c94-4b5a-a4e9-eac8004da13f",
   "metadata": {},
   "source": [
    "# Write out final patch file\n",
    "\n"
   ]
  },
  {
   "cell_type": "code",
   "execution_count": null,
   "id": "8b29ddd7-c6f3-41c6-a36a-2dee760067d5",
   "metadata": {},
   "outputs": [],
   "source": [
    "patch_data['metadata']"
   ]
  },
  {
   "cell_type": "code",
   "execution_count": null,
   "id": "02f74584-7c88-4e8d-9c0c-fba11b3d6d6e",
   "metadata": {},
   "outputs": [],
   "source": [
    "# write to json file\n",
    "patch_file='sword_patches_v215_v3.json'\n",
    "with open(patch_file,'w') as json_file:\n",
    "     json.dump(patch_data,json_file, indent=2)"
   ]
  },
  {
   "cell_type": "markdown",
   "id": "eb940b50-c771-4dfd-a24d-85b93852202b",
   "metadata": {
    "jp-MarkdownHeadingCollapsed": true,
    "tags": []
   },
   "source": [
    "# Template\n",
    "\n",
    "Copy and paste these pieces up into each new issue..."
   ]
  },
  {
   "cell_type": "markdown",
   "id": "6c56c1d4-3fdc-4dba-96e1-af57c6126ae9",
   "metadata": {
    "tags": []
   },
   "source": [
    "## Issue n\n",
    "\n",
    "xxxx is flagged"
   ]
  },
  {
   "cell_type": "code",
   "execution_count": null,
   "id": "5be695ba-3d0f-4a80-8ff1-f17297e9247d",
   "metadata": {},
   "outputs": [],
   "source": [
    "reachstr='xxxx'\n",
    "reachmap=plotIssueMap(L4basin,domain_reach_data,reachstr,domain_reachids)\n",
    "reachmap"
   ]
  },
  {
   "cell_type": "markdown",
   "id": "15467f9d-483d-4bb9-8a10-e801a5e39302",
   "metadata": {},
   "source": [
    "### Analysis\n",
    "\n",
    "* xxxx needs fixed..."
   ]
  },
  {
   "cell_type": "code",
   "execution_count": null,
   "id": "295dd32c-4d04-4f2f-9f32-96b11134777a",
   "metadata": {},
   "outputs": [],
   "source": [
    "# create patch\n",
    "reachid='xxxx'\n",
    "\n",
    "patch_data['reach_data'][reachid]={    \n",
    "}\n",
    "\n",
    "# the first entry in each reach or node entry is a metadata dictionary\n",
    "patch_data['reach_data'][reachid]['metadata']={\n",
    "    'date_patch_added':'2023-10-10',\n",
    "    'person_responsible':'Mike Durand',\n",
    "    'reason_for_patch':'bad topology',\n",
    "    'patch_comment':'n/a'\n",
    "}\n",
    "\n",
    "# data elements to patch\n",
    "patch_data['reach_data'][reachid]['n_rch_up']=0\n",
    "patch_data['reach_data'][reachid]['rch_id_up']=[0, 0, 0, 0]\n",
    "patch_data['reach_data'][reachid]['n_rch_down']=0\n",
    "patch_data['reach_data'][reachid]['rch_id_dn']=[0, 0, 0, 0]\n"
   ]
  },
  {
   "cell_type": "code",
   "execution_count": null,
   "id": "d575df33-071f-4c59-af01-ba0ffc36e49d",
   "metadata": {},
   "outputs": [],
   "source": [
    "# apply patches \n",
    "domain_reach_data_fix=apply_sword_patches(patch_data,domain_reach_data)"
   ]
  },
  {
   "cell_type": "code",
   "execution_count": null,
   "id": "211b93b4-cf6e-483c-aceb-8e4e0e7a513d",
   "metadata": {},
   "outputs": [],
   "source": [
    "Verbose=1 #show warnings too!\n",
    "nerrors,reaches_with_issues=check_topology(domain_reachids,domain_reach_data_fix,Verbose)\n",
    "\n",
    "print('There are a total of ',nerrors[1],'type 1 errors')\n",
    "print('There are a total of ',nerrors[2],'type 2 errors')\n",
    "print('Is reach of interest still in reaches with issues list?',  '23216000781' in reaches_with_issues)\n"
   ]
  },
  {
   "cell_type": "markdown",
   "id": "c00e66db-9f8b-4940-909b-d0429a8662df",
   "metadata": {},
   "source": [
    "**Yay! Issue n closed!**"
   ]
  },
  {
   "cell_type": "code",
   "execution_count": null,
   "id": "fb757368-3414-461a-900f-a03d4723a50d",
   "metadata": {},
   "outputs": [],
   "source": []
  }
 ],
 "metadata": {
  "kernelspec": {
   "display_name": "Python 3 (ipykernel)",
   "language": "python",
   "name": "python3"
  },
  "language_info": {
   "codemirror_mode": {
    "name": "ipython",
    "version": 3
   },
   "file_extension": ".py",
   "mimetype": "text/x-python",
   "name": "python",
   "nbconvert_exporter": "python",
   "pygments_lexer": "ipython3",
   "version": "3.8.13"
  }
 },
 "nbformat": 4,
 "nbformat_minor": 5
}
